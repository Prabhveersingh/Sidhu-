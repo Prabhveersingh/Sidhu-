{
  "cells": [
    {
      "cell_type": "markdown",
      "metadata": {
        "id": "view-in-github",
        "colab_type": "text"
      },
      "source": [
        "<a href=\"https://colab.research.google.com/github/Prabhveersingh/Sidhu-/blob/main/Alll_practical_Ai.ipynb\" target=\"_parent\"><img src=\"https://colab.research.google.com/assets/colab-badge.svg\" alt=\"Open In Colab\"/></a>"
      ]
    },
    {
      "cell_type": "markdown",
      "source": [
        "if and else"
      ],
      "metadata": {
        "id": "-Itf8nGAowsk"
      }
    },
    {
      "cell_type": "code",
      "source": [
        "A=21\n",
        "B=18\n",
        "if (B<=A):\n",
        " print(\"yes\")\n",
        "else:\n",
        " print(\"no\")"
      ],
      "metadata": {
        "colab": {
          "base_uri": "https://localhost:8080/"
        },
        "id": "ulz2yg-lnqP5",
        "outputId": "2820d8c8-7c70-4624-8ac5-07cec9a082a4"
      },
      "execution_count": null,
      "outputs": [
        {
          "output_type": "stream",
          "name": "stdout",
          "text": [
            "yes\n"
          ]
        }
      ]
    },
    {
      "cell_type": "code",
      "source": [
        "A=21\n",
        "B=18\n",
        "if (B>=A):\n",
        " print(\"yes\")\n",
        "else:\n",
        " print(\"no\")"
      ],
      "metadata": {
        "id": "wyV6ngXSoSaF",
        "outputId": "523464f3-ed64-440d-9fa3-81cf81116c24",
        "colab": {
          "base_uri": "https://localhost:8080/"
        }
      },
      "execution_count": null,
      "outputs": [
        {
          "output_type": "stream",
          "name": "stdout",
          "text": [
            "no\n"
          ]
        }
      ]
    },
    {
      "cell_type": "markdown",
      "source": [
        "Homework"
      ],
      "metadata": {
        "id": "k-zVhCrtsSUK"
      }
    },
    {
      "cell_type": "markdown",
      "source": [
        "Odd number printing"
      ],
      "metadata": {
        "id": "kzJXw-QYr9hj"
      }
    },
    {
      "cell_type": "code",
      "source": [
        "for i in range (1,20):\n",
        " if (i%2!=0):\n",
        "  print(i)"
      ],
      "metadata": {
        "colab": {
          "base_uri": "https://localhost:8080/"
        },
        "id": "-9vjJ6lhphc7",
        "outputId": "ea71031c-1bf2-40cf-858c-f8b90bd33fe5"
      },
      "execution_count": null,
      "outputs": [
        {
          "output_type": "stream",
          "name": "stdout",
          "text": [
            "1\n",
            "3\n",
            "5\n",
            "7\n",
            "9\n",
            "11\n",
            "13\n",
            "15\n",
            "17\n",
            "19\n"
          ]
        }
      ]
    },
    {
      "cell_type": "markdown",
      "source": [
        "Print your name 5 times"
      ],
      "metadata": {
        "id": "7zyL0m17slX-"
      }
    },
    {
      "cell_type": "code",
      "source": [
        "for i in range (5):\n",
        " print (\"Prabhveer Singh\")"
      ],
      "metadata": {
        "id": "gQbeh7N-ssx3",
        "outputId": "fa96eac6-ccb8-4180-aca6-2d42e7a46a03",
        "colab": {
          "base_uri": "https://localhost:8080/"
        }
      },
      "execution_count": null,
      "outputs": [
        {
          "output_type": "stream",
          "name": "stdout",
          "text": [
            "Prabhveer Singh\n",
            "Prabhveer Singh\n",
            "Prabhveer Singh\n",
            "Prabhveer Singh\n",
            "Prabhveer Singh\n"
          ]
        }
      ]
    },
    {
      "cell_type": "markdown",
      "source": [
        "Print 5 table using for loop"
      ],
      "metadata": {
        "id": "lPkRdunI_hFe"
      }
    },
    {
      "cell_type": "code",
      "source": [
        "for i in range (51):\n",
        " if i%5==0:\n",
        "  print(i)"
      ],
      "metadata": {
        "id": "2g1A4t5zAIPq",
        "outputId": "2382a589-1d56-4f28-944b-fd4b01b6066b",
        "colab": {
          "base_uri": "https://localhost:8080/"
        }
      },
      "execution_count": null,
      "outputs": [
        {
          "output_type": "stream",
          "name": "stdout",
          "text": [
            "0\n",
            "5\n",
            "10\n",
            "15\n",
            "20\n",
            "25\n",
            "30\n",
            "35\n",
            "40\n",
            "45\n",
            "50\n"
          ]
        }
      ]
    },
    {
      "cell_type": "markdown",
      "source": [
        "Print 5 different different fruits name"
      ],
      "metadata": {
        "id": "5ddHRYfqPq_t"
      }
    },
    {
      "cell_type": "code",
      "source": [
        "for i in range (1):\n",
        " print(\" mango\\n\",\"banana\\n\",\"guava\\n\",\"litchi\\n\",\"watermelon\")"
      ],
      "metadata": {
        "id": "SyvPQJGNPzc3",
        "outputId": "b9b9e463-ad2a-4dfb-8f95-299e2adbe005",
        "colab": {
          "base_uri": "https://localhost:8080/"
        }
      },
      "execution_count": null,
      "outputs": [
        {
          "output_type": "stream",
          "name": "stdout",
          "text": [
            " mango\n",
            " banana\n",
            " guava\n",
            " litchi\n",
            " watermelon\n"
          ]
        }
      ]
    },
    {
      "cell_type": "markdown",
      "source": [
        "\n",
        "Print numbers from 1 to 10 using a for loop."
      ],
      "metadata": {
        "id": "b2m5kpwR4sOs"
      }
    },
    {
      "cell_type": "code",
      "source": [
        "for i in range (1,10):\n",
        " print(i)"
      ],
      "metadata": {
        "colab": {
          "base_uri": "https://localhost:8080/"
        },
        "id": "_Md0tBl-4uwT",
        "outputId": "40e50fce-7dd1-4c75-ad3b-a9467577a2bb"
      },
      "execution_count": null,
      "outputs": [
        {
          "output_type": "stream",
          "name": "stdout",
          "text": [
            "1\n",
            "2\n",
            "3\n",
            "4\n",
            "5\n",
            "6\n",
            "7\n",
            "8\n",
            "9\n"
          ]
        }
      ]
    },
    {
      "cell_type": "markdown",
      "source": [
        "Print even numbers between 1 t0 20"
      ],
      "metadata": {
        "id": "JDj4CKp25bgh"
      }
    },
    {
      "cell_type": "code",
      "source": [
        "for x in range (1,20):\n",
        " if x%2==0:\n",
        "  print(x)"
      ],
      "metadata": {
        "id": "xdNP2vnN5iCv",
        "outputId": "177fdb80-e74d-4882-db73-13d7761351cf",
        "colab": {
          "base_uri": "https://localhost:8080/"
        }
      },
      "execution_count": null,
      "outputs": [
        {
          "output_type": "stream",
          "name": "stdout",
          "text": [
            "2\n",
            "4\n",
            "6\n",
            "8\n",
            "10\n",
            "12\n",
            "14\n",
            "16\n",
            "18\n"
          ]
        }
      ]
    },
    {
      "cell_type": "markdown",
      "source": [
        "Print counting 10 to 1 using while loop"
      ],
      "metadata": {
        "id": "DPQc7RSgYiXL"
      }
    },
    {
      "cell_type": "code",
      "source": [
        "count=10\n",
        "while(count>=1):\n",
        " print(count)\n",
        " count= count-1"
      ],
      "metadata": {
        "id": "Tl4cwTc8Yvf1",
        "outputId": "e609874c-2fc4-470f-a233-974681076b4e",
        "colab": {
          "base_uri": "https://localhost:8080/"
        }
      },
      "execution_count": null,
      "outputs": [
        {
          "output_type": "stream",
          "name": "stdout",
          "text": [
            "10\n",
            "9\n",
            "8\n",
            "7\n",
            "6\n",
            "5\n",
            "4\n",
            "3\n",
            "2\n",
            "1\n"
          ]
        }
      ]
    },
    {
      "cell_type": "markdown",
      "source": [
        "Print the multiplication table of a given number"
      ],
      "metadata": {
        "id": "38xAiSif2ytk"
      }
    },
    {
      "cell_type": "code",
      "source": [
        "a=5\n",
        "while(a<=2550):\n",
        " print (a)\n",
        " a=a*5"
      ],
      "metadata": {
        "id": "SckapMOy21nd",
        "outputId": "d304c4bb-1840-49ed-ddc3-becd5e3db5b5",
        "colab": {
          "base_uri": "https://localhost:8080/"
        }
      },
      "execution_count": null,
      "outputs": [
        {
          "output_type": "stream",
          "name": "stdout",
          "text": [
            "5\n",
            "25\n",
            "125\n",
            "625\n"
          ]
        }
      ]
    },
    {
      "cell_type": "markdown",
      "source": [
        "Create a list of 5 fruits"
      ],
      "metadata": {
        "id": "klV6VsE-R-hX"
      }
    },
    {
      "cell_type": "code",
      "source": [
        "List=[\"mango\",\"banana\",\"guava\", \"litchi\",\"watermelon\"]\n",
        "print(List)"
      ],
      "metadata": {
        "colab": {
          "base_uri": "https://localhost:8080/"
        },
        "id": "K2QJmcEKSDbH",
        "outputId": "d4626ed8-ec3a-4951-e7c9-310c8d04b98f"
      },
      "execution_count": null,
      "outputs": [
        {
          "output_type": "stream",
          "name": "stdout",
          "text": [
            "['mango', 'banana', 'guava', 'litchi', 'watermelon']\n"
          ]
        }
      ]
    },
    {
      "cell_type": "markdown",
      "source": [
        "Access 3rd from list"
      ],
      "metadata": {
        "id": "m28qXN2jTW9x"
      }
    },
    {
      "cell_type": "code",
      "source": [
        "print (List[3])"
      ],
      "metadata": {
        "colab": {
          "base_uri": "https://localhost:8080/"
        },
        "id": "rH9vyOFYS8PG",
        "outputId": "ff00b88e-570a-4103-dc4c-c5e7a819cf59"
      },
      "execution_count": null,
      "outputs": [
        {
          "output_type": "stream",
          "name": "stdout",
          "text": [
            "litchi\n"
          ]
        }
      ]
    },
    {
      "cell_type": "markdown",
      "source": [
        "Add mango in list \"Apple, banana\""
      ],
      "metadata": {
        "id": "BiYKUBaTTisR"
      }
    },
    {
      "cell_type": "code",
      "source": [
        "Fruits=[\"apple\", \"banana\"]\n",
        "Fruits.append(\"mango\")\n",
        "print(Fruits)"
      ],
      "metadata": {
        "colab": {
          "base_uri": "https://localhost:8080/"
        },
        "id": "WHoMOuFzTrdj",
        "outputId": "3edcad98-7e20-4df2-ccfd-b89b834e3783"
      },
      "execution_count": null,
      "outputs": [
        {
          "output_type": "stream",
          "name": "stdout",
          "text": [
            "['apple', 'banana', 'mango']\n"
          ]
        }
      ]
    },
    {
      "cell_type": "markdown",
      "source": [
        "Remove Apple"
      ],
      "metadata": {
        "id": "RcFHEJmRUrFH"
      }
    },
    {
      "cell_type": "code",
      "source": [
        "\n",
        "Fruits=[\"apple\", \"banana\"]\n",
        "Fruits.remove(\"apple\")\n",
        "print(Fruits)"
      ],
      "metadata": {
        "colab": {
          "base_uri": "https://localhost:8080/"
        },
        "id": "_7XElXskUvjx",
        "outputId": "4695a719-39b2-4d38-c2aa-9d4b94c61268"
      },
      "execution_count": null,
      "outputs": [
        {
          "output_type": "stream",
          "name": "stdout",
          "text": [
            "['banana']\n"
          ]
        }
      ]
    },
    {
      "cell_type": "markdown",
      "source": [
        "Tuple"
      ],
      "metadata": {
        "id": "T5fpYYVRWDyf"
      }
    },
    {
      "cell_type": "code",
      "source": [
        "Tuple=(70,3,75)\n",
        "print(Tuple)"
      ],
      "metadata": {
        "colab": {
          "base_uri": "https://localhost:8080/"
        },
        "id": "0bGGiOyBWHIO",
        "outputId": "14ce53d4-2248-46cf-a572-720867992b39"
      },
      "execution_count": null,
      "outputs": [
        {
          "output_type": "stream",
          "name": "stdout",
          "text": [
            "(70, 3, 75)\n"
          ]
        }
      ]
    },
    {
      "cell_type": "markdown",
      "source": [
        "Access 2nd item in Tuple"
      ],
      "metadata": {
        "id": "Ovgnd9bfWnTi"
      }
    },
    {
      "cell_type": "code",
      "source": [
        "\n",
        "Tuple=(70,3,75)\n",
        "print(Tuple[2])"
      ],
      "metadata": {
        "colab": {
          "base_uri": "https://localhost:8080/"
        },
        "id": "rq1jSKqAW2Qy",
        "outputId": "644b42df-55c2-4762-ef19-5b2928724688"
      },
      "execution_count": null,
      "outputs": [
        {
          "output_type": "stream",
          "name": "stdout",
          "text": [
            "75\n"
          ]
        }
      ]
    },
    {
      "cell_type": "markdown",
      "source": [
        "Q. Can you change the value of tuple ? why or why not\n",
        "\n",
        "Ans. We can't change the value of tuple because Tuple don't have function for changing the value"
      ],
      "metadata": {
        "id": "hs3evOQ3YI7X"
      }
    }
  ],
  "metadata": {
    "colab": {
      "name": "Alll practical Ai.ipynb",
      "provenance": [],
      "include_colab_link": true
    },
    "kernelspec": {
      "display_name": "Python 3",
      "name": "python3"
    }
  },
  "nbformat": 4,
  "nbformat_minor": 0
}