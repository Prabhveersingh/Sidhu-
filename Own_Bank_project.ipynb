{
  "nbformat": 4,
  "nbformat_minor": 0,
  "metadata": {
    "colab": {
      "provenance": [],
      "authorship_tag": "ABX9TyP6i26C9Ffgno3D7g5amgDa",
      "include_colab_link": true
    },
    "kernelspec": {
      "name": "python3",
      "display_name": "Python 3"
    },
    "language_info": {
      "name": "python"
    }
  },
  "cells": [
    {
      "cell_type": "markdown",
      "metadata": {
        "id": "view-in-github",
        "colab_type": "text"
      },
      "source": [
        "<a href=\"https://colab.research.google.com/github/Prabhveersingh/Sidhu-/blob/main/Own_Bank_project.ipynb\" target=\"_parent\"><img src=\"https://colab.research.google.com/assets/colab-badge.svg\" alt=\"Open In Colab\"/></a>"
      ]
    },
    {
      "cell_type": "code",
      "source": [
        "\n",
        "# Step 1: Get user's name and greet\n",
        "user = input(\" enter your name: \")\n",
        "print(\"*\" + f\"HELLO,  {user}  ! WELCOME TO YOUR BANK\")\n",
        "\n",
        "balance=0.0\n",
        "# Step 3: Show current balance\n",
        "print(\"Your current balance is: ₹\", balance)\n",
        "\n",
        "# Step 4: Define functions for deposit, withdraw, check balance\n",
        "\n",
        "def deposit(balance):\n",
        "    amount = float(input(\"Enter amount to deposit: ₹\"))\n",
        "    if amount > 0:\n",
        "        balance = balance + amount\n",
        "        print(\"Money deposited !\")\n",
        "    else:\n",
        "        print(\"Please enter a valid amount.\")\n",
        "    return balance\n",
        "\n",
        "def withdraw(balance):\n",
        "    amount = float(input(\"\\nEnter amount to withdraw: ₹\"))\n",
        "    if amount <= balance:\n",
        "        balance = balance - amount\n",
        "        print(\" Money withdrawn !\")\n",
        "    else:\n",
        "        print(\"Insufficient balance.\")\n",
        "    return balance\n",
        "\n",
        "def check_balance(balance):\n",
        "    print(\" Your current balance is: ₹\", balance)\n",
        "\n",
        "# Step 5: Menu loop\n",
        "while True:\n",
        "    print(\" Select an option:\")\n",
        "    print(\"1. Deposit Money\")\n",
        "    print(\"2. Withdraw Money\")\n",
        "    print(\"3. Check Balance\")\n",
        "    print(\"4. Exit\")\n",
        "\n",
        "    choice = input(\"Enter your choice (1/2/3/4): \")\n",
        "\n",
        "    if choice == \"1\":\n",
        "        balance = deposit(balance)\n",
        "    elif choice == \"2\":\n",
        "        balance = withdraw(balance)\n",
        "    elif choice == \"3\":\n",
        "        check_balance(balance)\n",
        "    elif choice == \"4\":\n",
        "        print(\"Thank you for banking with us!\")\n",
        "        break\n",
        "    else:\n",
        "        print(\" Invalid choice. Please try again.\")"
      ],
      "metadata": {
        "id": "Tus6_B6RG_IF"
      },
      "execution_count": null,
      "outputs": []
    }
  ]
}